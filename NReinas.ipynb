{
  "nbformat": 4,
  "nbformat_minor": 0,
  "metadata": {
    "colab": {
      "provenance": []
    },
    "kernelspec": {
      "name": "python3",
      "display_name": "Python 3"
    },
    "language_info": {
      "name": "python"
    }
  },
  "cells": [
    {
      "cell_type": "code",
      "source": [
        "import numpy as np\n",
        "import random\n",
        "import math\n",
        "import matplotlib.pyplot as plt\n",
        "\n",
        "# Función para evaluar el costo de una configuración (el número de conflictos)\n",
        "def evaluar(conf):\n",
        "    conflictos = 0\n",
        "    n = len(conf)\n",
        "    for i in range(n):\n",
        "        for j in range(i + 1, n):\n",
        "            if conf[i] == conf[j] or abs(conf[i] - conf[j]) == abs(i - j):\n",
        "                conflictos += 1\n",
        "    return conflictos\n",
        "\n",
        "# Función para generar una vecina (mover una reina aleatoriamente)\n",
        "def generar_vecina(conf):\n",
        "    n = len(conf)\n",
        "    vecina = conf.copy()\n",
        "    i = random.randint(0, n - 1)\n",
        "    j = random.randint(0, n - 1)\n",
        "    vecina[i] = j\n",
        "    return vecina\n",
        "\n",
        "# Función Simulated Annealing\n",
        "def simulated_annealing(n, temp_inicial=1000, temp_final=1, alpha=0.995, iter_max=1000):\n",
        "    # Inicializar una configuración aleatoria\n",
        "    estado_actual = list(np.random.permutation(n))\n",
        "    costo_actual = evaluar(estado_actual)\n",
        "\n",
        "    # Mejor solución encontrada\n",
        "    mejor_estado = estado_actual\n",
        "    mejor_costo = costo_actual\n",
        "\n",
        "    temp = temp_inicial\n",
        "    iteraciones = 0\n",
        "\n",
        "    # Ciclo de Simulated Annealing\n",
        "    while temp > temp_final and iteraciones < iter_max:\n",
        "        # Generar una vecina aleatoria\n",
        "        vecino = generar_vecina(estado_actual)\n",
        "        costo_vecino = evaluar(vecino)\n",
        "\n",
        "        # Si el vecino es mejor, lo aceptamos\n",
        "        if costo_vecino < costo_actual:\n",
        "            estado_actual = vecino\n",
        "            costo_actual = costo_vecino\n",
        "        else:\n",
        "            # Si el vecino es peor, lo aceptamos con una probabilidad\n",
        "            prob = math.exp(-(costo_vecino - costo_actual) / temp)\n",
        "            if random.random() < prob:\n",
        "                estado_actual = vecino\n",
        "                costo_actual = costo_vecino\n",
        "\n",
        "        # Si encontramos una solución mejor, actualizamos\n",
        "        if costo_actual < mejor_costo:\n",
        "            mejor_estado = estado_actual\n",
        "            mejor_costo = costo_actual\n",
        "\n",
        "        # Reducir la temperatura\n",
        "        temp *= alpha\n",
        "        iteraciones += 1\n",
        "\n",
        "    return mejor_estado, mejor_costo\n",
        "\n",
        "# Ejemplo con n = 8 (tablero de 8x8)\n",
        "n = 8\n",
        "solucion, costo = simulated_annealing(n)\n",
        "print(\"Mejor solución encontrada:\", solucion)\n",
        "print(\"Número de conflictos:\", costo)\n",
        "\n",
        "# Mostrar la solución\n",
        "def mostrar_tablero(n, solucion):\n",
        "    tablero = np.zeros((n, n), dtype=int)\n",
        "    for i in range(n):\n",
        "        tablero[solucion[i], i] = 1  # Colocamos las reinas\n",
        "    plt.figure(figsize=(8, 8))\n",
        "    plt.imshow(tablero, cmap=\"Blues\", interpolation=\"nearest\")\n",
        "    plt.title(f\"Solución para {n}-Reinas\")\n",
        "    plt.xticks(range(n))\n",
        "    plt.yticks(range(n))\n",
        "    plt.grid(True)\n",
        "    plt.show()\n",
        "\n",
        "mostrar_tablero(n, solucion)\n",
        "\n",
        "\n"
      ],
      "metadata": {
        "colab": {
          "base_uri": "https://localhost:8080/",
          "height": 734
        },
        "id": "kUThxS0Rw7l_",
        "outputId": "81450b8d-3624-4e1e-9b4c-62b9986db05d"
      },
      "execution_count": 16,
      "outputs": [
        {
          "output_type": "stream",
          "name": "stdout",
          "text": [
            "Mejor solución encontrada: [2, 6, 4, 1, 7, 0, 7, 3]\n",
            "Número de conflictos: 2\n"
          ]
        },
        {
          "output_type": "display_data",
          "data": {
            "text/plain": [
              "<Figure size 800x800 with 1 Axes>"
            ],
            "image/png": "[encoded data removed]"
          },
          "metadata": {}
        }
      ]
    }
  ]
}